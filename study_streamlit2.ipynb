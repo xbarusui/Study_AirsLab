{
  "nbformat": 4,
  "nbformat_minor": 0,
  "metadata": {
    "colab": {
      "name": "study_streamlit2.ipynb",
      "provenance": [],
      "collapsed_sections": [],
      "mount_file_id": "1JC97ib5HOoFJkU9_aZFKG0OnYq9YJEd6",
      "authorship_tag": "ABX9TyPaskpEyp/9E/GTUqJg0JZ3",
      "include_colab_link": true
    },
    "kernelspec": {
      "name": "python3",
      "display_name": "Python 3"
    },
    "language_info": {
      "name": "python"
    },
    "accelerator": "GPU"
  },
  "cells": [
    {
      "cell_type": "markdown",
      "metadata": {
        "id": "view-in-github",
        "colab_type": "text"
      },
      "source": [
        "<a href=\"https://colab.research.google.com/github/xbarusui/Study_AirsLab/blob/main/study_streamlit2.ipynb\" target=\"_parent\"><img src=\"https://colab.research.google.com/assets/colab-badge.svg\" alt=\"Open In Colab\"/></a>"
      ]
    },
    {
      "cell_type": "markdown",
      "metadata": {
        "id": "_z30cEjronAJ"
      },
      "source": [
        "<h1> Airs-lab 勉強会用 colab notebook No2</h1>\n",
        "\n",
        "## 第2章 Streamlit の使い方を学ぼう\n",
        "https://docs.streamlit.io/library/api-reference\n",
        "\n",
        "- ポイント1. 様々な Streamlit のサンプルコマンドを実行して一通りのできることを学ぶことができる\n",
        "- ポイント2. GoogleColab の magicコマンドでファイルを書き込むことができるのでこれを活用する\n",
        "\n",
        "**上記様々なStreamlit サンプルコマンドを利用することで、 GoogleColab 上でどのような UI を使えるのか学ぶことができる。**\n",
        "\n",
        "---\n",
        "\n",
        "参考にした技術情報\n",
        "\n",
        "- [Colaboratory上で学習したモデルをngrokを使って簡易デモする](https://qiita.com/a2kiti/items/a6ae6715033bf22f7afc)\n",
        "\n",
        "- [Python: Streamlit を使って手早く WebUI 付きのプロトタイプを作る](https://blog.amedama.jp/entry/streamlit-tutorial)\n",
        "\n",
        "- [Web カメラで得た画像を Streamlit 上で表示する](https://qiita.com/SatoshiTerasaki/items/f1724d68deecdc14103f)\n",
        "\n",
        "- [【簡単爆速第3弾】HTML要らずでWebアプリが作れるStreamlitで、HTMLが使えるようになったぞ](https://qiita.com/Nate0928/items/4d8b9abef3e520293a4a)\n"
      ]
    },
    {
      "cell_type": "markdown",
      "metadata": {
        "id": "SDxdaLcFuJzx"
      },
      "source": [
        "# 事前準備\n",
        "\n",
        "1. streamlit と ngrok インストール\n",
        "2. get_ipythonでngrokにバインド\n",
        "3. %%writefile app.py テンプレ作成。基本1ファイルを修正\n",
        "4. streamlit run app.py でアプリ実行\n",
        "5. curl で外部URLが生成される\n",
        "\n",
        "6. 3の外部URLからアクセスすると画面が表示される\n",
        "\n",
        "3だけを修正すれば動的に反映される\n",
        "\n",
        "4の再起動をするときは2-6の順に再実施して新しいURLにならないと起動しない\n"
      ]
    },
    {
      "cell_type": "code",
      "metadata": {
        "id": "KfmoLPDakToo"
      },
      "source": [
        "# 1.streamlitと外部公開のngrokインストール\n",
        "!pip install -q streamlit\n",
        "!wget https://bin.equinox.io/c/4VmDzA7iaHb/ngrok-stable-linux-amd64.zip\n",
        "!unzip ngrok-stable-linux-amd64.zip"
      ],
      "execution_count": null,
      "outputs": []
    },
    {
      "cell_type": "code",
      "metadata": {
        "id": "kLhhDOhGuzHp"
      },
      "source": [
        "# 2.get_ipythonでngrokにバインド。streamlit のデフォルトport は 8501 なので\n",
        "get_ipython().system_raw('./ngrok http 8501 &')"
      ],
      "execution_count": null,
      "outputs": []
    },
    {
      "cell_type": "code",
      "metadata": {
        "colab": {
          "base_uri": "https://localhost:8080/"
        },
        "id": "m4UJVkbuZTdS",
        "outputId": "d3e69080-30da-4bf4-bbe7-fab17b16aafe"
      },
      "source": [
        "# 3. %%writefile app.py テンプレ作成。基本1ファイルを修正\n",
        "%%writefile app.py\n",
        "import streamlit as st\n",
        "import plotly.express as px\n",
        "import plotly.io as pio\n",
        "\n"
      ],
      "execution_count": null,
      "outputs": [
        {
          "output_type": "stream",
          "name": "stdout",
          "text": [
            "Writing app.py\n"
          ]
        }
      ]
    },
    {
      "cell_type": "code",
      "metadata": {
        "id": "jrtGEhQQxP0_"
      },
      "source": [
        "# 4. streamlit run app.py でアプリ実行\n",
        "!streamlit run app.py &>/dev/null&\n",
        "#!streamlit run app.py\n"
      ],
      "execution_count": null,
      "outputs": []
    },
    {
      "cell_type": "markdown",
      "metadata": {
        "id": "PCj-SLtWyFaV"
      },
      "source": [
        "# curl で外部URLが生成される"
      ]
    },
    {
      "cell_type": "code",
      "metadata": {
        "id": "RQfrXZcoZLgb"
      },
      "source": [
        "# 5. curl 実行時に出るURLで外部アクセスできるようになる\n",
        "!curl -s http://localhost:4040/api/tunnels | python3 -c \\\n",
        "  'import sys, json; print(\"Execute the next cell and the go to the following URL: \" +json.load(sys.stdin)[\"tunnels\"][0][\"public_url\"])'"
      ],
      "execution_count": null,
      "outputs": []
    },
    {
      "cell_type": "markdown",
      "metadata": {
        "id": "E61NoLsWZHjU"
      },
      "source": [
        "# app.py 本体処理\n",
        "app.py を%%writefile app.pyで上書きすると URL から動的に画面が変更される\n"
      ]
    },
    {
      "cell_type": "code",
      "metadata": {
        "colab": {
          "base_uri": "https://localhost:8080/"
        },
        "id": "yv9vpt2yZU2l",
        "outputId": "8caaf592-3950-46fc-e2b2-60ad9eb7dda0"
      },
      "source": [
        "#こちらに本体処理を実施してください\n",
        "%%writefile app.py\n"
      ],
      "execution_count": null,
      "outputs": [
        {
          "output_type": "stream",
          "name": "stdout",
          "text": [
            "Overwriting app.py\n"
          ]
        }
      ]
    },
    {
      "cell_type": "markdown",
      "metadata": {
        "id": "IlB4fBi1PIBo"
      },
      "source": [
        "# streamlit のサンプルコード"
      ]
    },
    {
      "cell_type": "code",
      "metadata": {
        "colab": {
          "base_uri": "https://localhost:8080/"
        },
        "id": "gFsxYNMEwDbA",
        "outputId": "8b4e7efa-bf62-4cab-bfb5-1087c25f7130"
      },
      "source": [
        "# 様々な表示\n",
        "#https://blog.amedama.jp/entry/streamlit-tutorial\n",
        "%%writefile app.py\n",
        "\n",
        "# -*- coding: utf-8 -*-\n",
        "\n",
        "import streamlit as st\n",
        "\n",
        "\n",
        "def main():\n",
        "    # タイトル\n",
        "    st.title('Application title')\n",
        "    # ヘッダ\n",
        "    st.header('Header')\n",
        "    # 純粋なテキスト\n",
        "    st.text('Some text')\n",
        "    # サブレベルヘッダ\n",
        "    st.subheader('Sub header')\n",
        "    # マークダウンテキスト\n",
        "    st.markdown('**Markdown is available **')\n",
        "    # LaTeX テキスト\n",
        "    st.latex(r'\\bar{X} = \\frac{1}{N} \\sum_{n=1}^{N} x_i')\n",
        "    # コードスニペット\n",
        "    st.code('print(\\'Hello, World!\\')')\n",
        "    # エラーメッセージ\n",
        "    st.error('Error message')\n",
        "    # 警告メッセージ\n",
        "    st.warning('Warning message')\n",
        "    # 情報メッセージ\n",
        "    st.info('Information message')\n",
        "    # 成功メッセージ\n",
        "    st.success('Success message')\n",
        "    # 例外の出力\n",
        "    st.exception(Exception('Oops!'))\n",
        "    # 辞書の出力\n",
        "    d = {\n",
        "        'foo': 'bar',\n",
        "        'users': [\n",
        "            'alice',\n",
        "            'bob',\n",
        "        ],\n",
        "    }\n",
        "    st.json(d)\n",
        "\n",
        "\n",
        "if __name__ == '__main__':\n",
        "    main()"
      ],
      "execution_count": null,
      "outputs": [
        {
          "output_type": "stream",
          "name": "stdout",
          "text": [
            "Overwriting app.py\n"
          ]
        }
      ]
    },
    {
      "cell_type": "code",
      "metadata": {
        "colab": {
          "base_uri": "https://localhost:8080/"
        },
        "id": "cKz9Fthnw8Gn",
        "outputId": "9847201c-b893-4ac9-84b2-146af63d68a3"
      },
      "source": [
        "#プレースホルダーを応用するとアニメーション的なこともできる。 以下のサンプルコードではスリープを挟みながらプレースホルダーの内容を書きかえることで動きのあるページを作っている。\n",
        "%%writefile app.py\n",
        "# -*- coding: utf-8 -*-\n",
        "\n",
        "import time\n",
        "\n",
        "import streamlit as st\n",
        "\n",
        "\n",
        "def main():\n",
        "    status_area = st.empty()\n",
        "\n",
        "    # カウントダウン\n",
        "    count_down_sec = 5\n",
        "    for i in range(count_down_sec):\n",
        "        # プレースホルダーに残り秒数を書き込む\n",
        "        status_area.write(f'{count_down_sec - i} sec left')\n",
        "        # スリープ処理を入れる\n",
        "        time.sleep(1)\n",
        "\n",
        "    # 完了したときの表示\n",
        "    status_area.write('Done!')\n",
        "    # 風船飛ばす\n",
        "    st.balloons()\n",
        "\n",
        "\n",
        "if __name__ == '__main__':\n",
        "    main()"
      ],
      "execution_count": null,
      "outputs": [
        {
          "output_type": "stream",
          "name": "stdout",
          "text": [
            "Overwriting app.py\n"
          ]
        }
      ]
    },
    {
      "cell_type": "code",
      "metadata": {
        "colab": {
          "base_uri": "https://localhost:8080/"
        },
        "id": "8wqYJOoAxK2x",
        "outputId": "ae6d5e01-4456-43fb-b525-ff92b5c6b8e4"
      },
      "source": [
        "#プログレスバー表示サンプル。ちなみにプログレスバーや描画中の作業は次処理を止める\n",
        "%%writefile app.py\n",
        "# -*- coding: utf-8 -*-\n",
        "\n",
        "import time\n",
        "\n",
        "import streamlit as st\n",
        "\n",
        "\n",
        "def main():\n",
        "    status_text = st.empty()\n",
        "    # プログレスバー\n",
        "    progress_bar = st.progress(0)\n",
        "\n",
        "    for i in range(100):\n",
        "        status_text.text(f'Progress: {i}%')\n",
        "        # for ループ内でプログレスバーの状態を更新する\n",
        "        progress_bar.progress(i + 1)\n",
        "        time.sleep(0.1)\n",
        "\n",
        "    status_text.text('Done!')\n",
        "    st.balloons()\n",
        "\n",
        "\n",
        "if __name__ == '__main__':\n",
        "    main()"
      ],
      "execution_count": null,
      "outputs": [
        {
          "output_type": "stream",
          "name": "stdout",
          "text": [
            "Overwriting app.py\n"
          ]
        }
      ]
    },
    {
      "cell_type": "code",
      "metadata": {
        "colab": {
          "base_uri": "https://localhost:8080/"
        },
        "id": "5vQDGG5Mxgq_",
        "outputId": "eb8eb199-4d19-44e4-ee42-8af3af3f27ca"
      },
      "source": [
        "#データフレームの表示サンプル\n",
        "%%writefile app.py\n",
        "# -*- coding: utf-8 -*-\n",
        "\n",
        "import streamlit as st\n",
        "import pandas as pd\n",
        "import numpy as np\n",
        "\n",
        "\n",
        "def main():\n",
        "    # Pandas のデータフレームを可視化してみる\n",
        "    data = {\n",
        "        # ランダムな値で初期化する\n",
        "        'x': np.random.random(20),\n",
        "        'y': np.random.random(20),\n",
        "    }\n",
        "    df = pd.DataFrame(data)\n",
        "    # データフレームを書き出す\n",
        "    st.dataframe(df)\n",
        "    # st.write(df)  でも良い\n",
        "    # スクロールバーを使わず一度に表示したいとき\n",
        "    st.table(df)\n",
        "\n",
        "\n",
        "if __name__ == '__main__':\n",
        "    main()\n"
      ],
      "execution_count": null,
      "outputs": [
        {
          "output_type": "stream",
          "name": "stdout",
          "text": [
            "Overwriting app.py\n"
          ]
        }
      ]
    },
    {
      "cell_type": "code",
      "metadata": {
        "colab": {
          "base_uri": "https://localhost:8080/"
        },
        "id": "9r-8_WP8ySPG",
        "outputId": "43547f39-bdd1-4286-aa34-2a75350bcaac"
      },
      "source": [
        "#@stを関数に使うとリロードしてもキャッシュされるのでロード時間短縮できる\n",
        "%%writefile app.py\n",
        "# -*- coding: utf-8 -*-\n",
        "\n",
        "import streamlit as st\n",
        "import pandas as pd\n",
        "import numpy as np\n",
        "\n",
        "\n",
        "# 関数の出力をキャッシュする\n",
        "@st.cache\n",
        "def cached_data():\n",
        "    data = {\n",
        "        'x': np.random.random(20),\n",
        "        'y': np.random.random(20),\n",
        "    }\n",
        "    df = pd.DataFrame(data)\n",
        "    return df\n",
        "\n",
        "\n",
        "def main():\n",
        "    # リロードしても同じ結果が得られる\n",
        "    df = cached_data()\n",
        "    st.dataframe(df)\n",
        "\n",
        "\n",
        "if __name__ == '__main__':\n",
        "    main()"
      ],
      "execution_count": null,
      "outputs": [
        {
          "output_type": "stream",
          "name": "stdout",
          "text": [
            "Overwriting app.py\n"
          ]
        }
      ]
    },
    {
      "cell_type": "code",
      "metadata": {
        "colab": {
          "base_uri": "https://localhost:8080/"
        },
        "id": "f-iu8Aaryx6t",
        "outputId": "971e6a6d-ff36-47b8-b8a8-a3cc9f1e3b9f"
      },
      "source": [
        "#ボタンの判定などのサンプル\n",
        "%%writefile app.py\n",
        "# -*- coding: utf-8 -*-\n",
        "\n",
        "import streamlit as st\n",
        "\n",
        "\n",
        "def main():\n",
        "    if st.button('Top button'):\n",
        "        # 最後の試行で上のボタンがクリックされた\n",
        "        st.write('Clicked')\n",
        "    else:\n",
        "        # クリックされなかった\n",
        "        st.write('Not clicked')\n",
        "\n",
        "    if st.button('Bottom button'):\n",
        "        # 最後の試行で下のボタンがクリックされた\n",
        "        st.write('Clicked')\n",
        "    else:\n",
        "        # クリックされなかった\n",
        "        st.write('Not clicked')\n",
        "\n",
        "\n",
        "if __name__ == '__main__':\n",
        "    main()"
      ],
      "execution_count": null,
      "outputs": [
        {
          "output_type": "stream",
          "name": "stdout",
          "text": [
            "Overwriting app.py\n"
          ]
        }
      ]
    },
    {
      "cell_type": "code",
      "metadata": {
        "id": "FDNS31awzGO-"
      },
      "source": [
        "#チェックボックスの判定などのサンプル\n",
        "\n",
        "%%writefile app.py\n",
        "# -*- coding: utf-8 -*-\n",
        "\n",
        "import streamlit as st\n",
        "import pandas as pd\n",
        "import numpy as np\n",
        "\n",
        "\n",
        "def main():\n",
        "    # チェックボックスにチェックが入っているかで処理を分岐する\n",
        "    if st.checkbox('Show'):\n",
        "        # チェックが入っているときはデータフレームを書き出す\n",
        "        data = np.random.randn(20, 3)\n",
        "        df = pd.DataFrame(data, columns=['x', 'y', 'z'])\n",
        "        st.dataframe(df)\n",
        "\n",
        "\n",
        "if __name__ == '__main__':\n",
        "    main()"
      ],
      "execution_count": null,
      "outputs": []
    },
    {
      "cell_type": "code",
      "metadata": {
        "colab": {
          "base_uri": "https://localhost:8080/"
        },
        "id": "EnSX-sJUzOFX",
        "outputId": "db3e312b-e484-442d-c3a1-d6fd7d61fdc8"
      },
      "source": [
        "#ラジオボックス判定のサンプル\n",
        "\n",
        "%%writefile app.py\n",
        "# -*- coding: utf-8 -*-\n",
        "\n",
        "import streamlit as st\n",
        "\n",
        "\n",
        "def main():\n",
        "    selected_item = st.radio('Which do you like?',\n",
        "                             ['熊', 'それ以外'])\n",
        "    if selected_item == '熊':\n",
        "        st.write('🐻')\n",
        "    else:\n",
        "        st.write('🐶')\n",
        "\n",
        "\n",
        "if __name__ == '__main__':\n",
        "    main()"
      ],
      "execution_count": null,
      "outputs": [
        {
          "output_type": "stream",
          "name": "stdout",
          "text": [
            "Overwriting app.py\n"
          ]
        }
      ]
    },
    {
      "cell_type": "code",
      "metadata": {
        "colab": {
          "base_uri": "https://localhost:8080/"
        },
        "id": "V9EUShLIzcGG",
        "outputId": "0d9bd219-fe0d-4c11-b73d-1169dfd93fc6"
      },
      "source": [
        "#セレクトボックスのサンプル\n",
        "%%writefile app.py\n",
        "# -*- coding: utf-8 -*-\n",
        "\n",
        "import streamlit as st\n",
        "\n",
        "\n",
        "def main():\n",
        "    selected_item = st.selectbox('Which do you like?',\n",
        "                                 ['Dog', 'Cat'])\n",
        "    st.write(f'Selected: {selected_item}')\n",
        "\n",
        "\n",
        "if __name__ == '__main__':\n",
        "    main()"
      ],
      "execution_count": null,
      "outputs": [
        {
          "output_type": "stream",
          "name": "stdout",
          "text": [
            "Overwriting app.py\n"
          ]
        }
      ]
    },
    {
      "cell_type": "code",
      "metadata": {
        "colab": {
          "base_uri": "https://localhost:8080/"
        },
        "id": "L77gdNDJznWt",
        "outputId": "855bfabb-6779-4147-9aca-3e10d8b2ffe6"
      },
      "source": [
        "#マルチセレクト（複数選択可能）ボックスのサンプル\n",
        "%%writefile app.py\n",
        "# -*- coding: utf-8 -*-\n",
        "\n",
        "import streamlit as st\n",
        "\n",
        "\n",
        "def main():\n",
        "    selected_items = st.multiselect('What are your favorite characters?',\n",
        "                                    ['Aさん',\n",
        "                                     'Bさん',\n",
        "                                     'Cさん',\n",
        "                                     'Dさん',\n",
        "                                     'Eさん',\n",
        "                                     ])\n",
        "    st.write(f'Selected: {selected_items}')\n",
        "\n",
        "\n",
        "if __name__ == '__main__':\n",
        "    main()"
      ],
      "execution_count": null,
      "outputs": [
        {
          "output_type": "stream",
          "name": "stdout",
          "text": [
            "Overwriting app.py\n"
          ]
        }
      ]
    },
    {
      "cell_type": "code",
      "metadata": {
        "colab": {
          "base_uri": "https://localhost:8080/"
        },
        "id": "ETn40M2VztJF",
        "outputId": "adbfacbe-03a7-4844-bd78-29b95339d4a3"
      },
      "source": [
        "#スライダーのサンプル\n",
        "%%writefile app.py\n",
        "# -*- coding: utf-8 -*-\n",
        "\n",
        "import streamlit as st\n",
        "\n",
        "\n",
        "def main():\n",
        "    age = st.slider(label='Your age',\n",
        "                    min_value=0,\n",
        "                    max_value=130,\n",
        "                    value=30,\n",
        "                    )\n",
        "    st.write(f'Selected: {age}')\n",
        "\n",
        "\n",
        "if __name__ == '__main__':\n",
        "    main()\n"
      ],
      "execution_count": null,
      "outputs": [
        {
          "output_type": "stream",
          "name": "stdout",
          "text": [
            "Overwriting app.py\n"
          ]
        }
      ]
    },
    {
      "cell_type": "code",
      "metadata": {
        "colab": {
          "base_uri": "https://localhost:8080/"
        },
        "id": "1M8v-OExz8XA",
        "outputId": "a6dbe7d3-e99d-44f6-9a74-115b1aee23ae"
      },
      "source": [
        "#最小最大のスライダー\n",
        "%%writefile app.py\n",
        "# -*- coding: utf-8 -*-\n",
        "\n",
        "import streamlit as st\n",
        "\n",
        "\n",
        "def main():\n",
        "    min_value, max_value = st.slider(label='Range selected',\n",
        "                                     min_value=0,\n",
        "                                     max_value=100,\n",
        "                                     value=(40, 60),\n",
        "                                     )\n",
        "    st.write(f'Selected: {min_value} ~ {max_value}')\n",
        "\n",
        "\n",
        "if __name__ == '__main__':\n",
        "    main()"
      ],
      "execution_count": null,
      "outputs": [
        {
          "output_type": "stream",
          "name": "stdout",
          "text": [
            "Overwriting app.py\n"
          ]
        }
      ]
    },
    {
      "cell_type": "code",
      "metadata": {
        "colab": {
          "base_uri": "https://localhost:8080/"
        },
        "id": "bY7ocfHV0KE-",
        "outputId": "a41d0fde-e652-45fa-e8df-7de8368bb4e0"
      },
      "source": [
        "#日付のサンプル\n",
        "%%writefile app.py\n",
        "# -*- coding: utf-8 -*-\n",
        "\n",
        "from datetime import date\n",
        "\n",
        "import streamlit as st\n",
        "\n",
        "\n",
        "def main():\n",
        "    birthday = st.date_input('When is your birthday?',\n",
        "                             min_value=date(1900, 1, 1),\n",
        "                             max_value=date.today(),\n",
        "                             value=date(2000, 1, 1),\n",
        "                             )\n",
        "    st.write('Birthday: ', birthday)\n",
        "\n",
        "\n",
        "if __name__ == '__main__':\n",
        "    main()"
      ],
      "execution_count": null,
      "outputs": [
        {
          "output_type": "stream",
          "name": "stdout",
          "text": [
            "Overwriting app.py\n"
          ]
        }
      ]
    },
    {
      "cell_type": "code",
      "metadata": {
        "colab": {
          "base_uri": "https://localhost:8080/"
        },
        "id": "qKjvtkWM0Tr-",
        "outputId": "24cb2af0-5a49-4d25-b13d-ac9fbc19b89c"
      },
      "source": [
        "#インプットのサンプル\n",
        "%%writefile app.py\n",
        "# -*- coding: utf-8 -*-\n",
        "\n",
        "import streamlit as st\n",
        "\n",
        "\n",
        "def main():\n",
        "    time = st.time_input(label='Your input:')\n",
        "    st.write('input: ', time)\n",
        "\n",
        "\n",
        "if __name__ == '__main__':\n",
        "    main()"
      ],
      "execution_count": null,
      "outputs": [
        {
          "output_type": "stream",
          "name": "stdout",
          "text": [
            "Overwriting app.py\n"
          ]
        }
      ]
    },
    {
      "cell_type": "code",
      "metadata": {
        "colab": {
          "base_uri": "https://localhost:8080/"
        },
        "id": "fl_OePou0bCM",
        "outputId": "0585ed52-44a0-4d4a-96db-31e023e0a684"
      },
      "source": [
        "#テキストインプット\n",
        "%%writefile app.py\n",
        "# -*- coding: utf-8 -*-\n",
        "\n",
        "import streamlit as st\n",
        "\n",
        "\n",
        "def main():\n",
        "    text = st.text_input(label='Message', value='Hello, World!')\n",
        "    st.write('input: ', text)\n",
        "\n",
        "\n",
        "if __name__ == '__main__':\n",
        "    main()"
      ],
      "execution_count": null,
      "outputs": [
        {
          "output_type": "stream",
          "name": "stdout",
          "text": [
            "Overwriting app.py\n"
          ]
        }
      ]
    },
    {
      "cell_type": "code",
      "metadata": {
        "colab": {
          "base_uri": "https://localhost:8080/"
        },
        "id": "riCgnPt70o7t",
        "outputId": "9a104c0e-e459-4446-a53b-e65102038732"
      },
      "source": [
        "#テキストエリア\n",
        "%%writefile app.py\n",
        "# -*- coding: utf-8 -*-\n",
        "\n",
        "import streamlit as st\n",
        "\n",
        "\n",
        "def main():\n",
        "    text = st.text_area(label='Multi-line message', value='Hello, World!')\n",
        "    st.write('input: ', text)\n",
        "\n",
        "\n",
        "if __name__ == '__main__':\n",
        "    main()"
      ],
      "execution_count": null,
      "outputs": [
        {
          "output_type": "stream",
          "name": "stdout",
          "text": [
            "Overwriting app.py\n"
          ]
        }
      ]
    },
    {
      "cell_type": "code",
      "metadata": {
        "colab": {
          "base_uri": "https://localhost:8080/"
        },
        "id": "N7iaYSBs33hS",
        "outputId": "a43d7d5b-2390-48a1-fb3f-921dc67cdcee"
      },
      "source": [
        "#数字入力サンプル\n",
        "%%writefile app.py\n",
        "# -*- coding: utf-8 -*-\n",
        "\n",
        "import streamlit as st\n",
        "\n",
        "\n",
        "def main():\n",
        "    n = st.number_input(label='What is your favorite number?',\n",
        "                        value=42,\n",
        "                        )\n",
        "    st.write('input: ', n)\n",
        "\n",
        "\n",
        "if __name__ == '__main__':\n",
        "    main()"
      ],
      "execution_count": null,
      "outputs": [
        {
          "output_type": "stream",
          "name": "stdout",
          "text": [
            "Overwriting app.py\n"
          ]
        }
      ]
    },
    {
      "cell_type": "code",
      "metadata": {
        "colab": {
          "base_uri": "https://localhost:8080/"
        },
        "id": "7s1dPYOK4VdJ",
        "outputId": "d8eca9ea-0125-46e5-d04a-82bf07a3daa1"
      },
      "source": [
        "#アップロード、ダウンロードのサンプル\n",
        "%%writefile app.py\n",
        "# -*- coding: utf-8 -*-\n",
        "\n",
        "import streamlit as st\n",
        "\n",
        "\n",
        "def main():\n",
        "    f = st.file_uploader(label='Upload file:')\n",
        "    st.write('input: ', f)\n",
        "\n",
        "    if f is not None:\n",
        "        # XXX: 信頼できないファイルは安易に評価しないこと\n",
        "        data = f.getvalue()\n",
        "        text = data.decode('utf-8')\n",
        "        st.write('contents: ', text)\n",
        "\n",
        "\n",
        "    text_contents = '''This is some text'''\n",
        "    st.download_button('Download some text', text_contents)\n",
        "\n",
        "\n",
        "if __name__ == '__main__':\n",
        "    main()"
      ],
      "execution_count": null,
      "outputs": [
        {
          "output_type": "stream",
          "name": "stdout",
          "text": [
            "Overwriting app.py\n"
          ]
        }
      ]
    },
    {
      "cell_type": "code",
      "metadata": {
        "colab": {
          "base_uri": "https://localhost:8080/"
        },
        "id": "toVgQof27m3g",
        "outputId": "34e6e621-f42c-4f6f-9fdf-6c5a231aad9d"
      },
      "source": [
        "#カラーピッカーサンプル\n",
        "%%writefile app.py\n",
        "# -*- coding: utf-8 -*-\n",
        "\n",
        "import streamlit as st\n",
        "\n",
        "\n",
        "def main():\n",
        "    c = st.color_picker(label='Select color:')\n",
        "    st.write('input: ', c)\n",
        "\n",
        "\n",
        "if __name__ == '__main__':\n",
        "    main()"
      ],
      "execution_count": null,
      "outputs": [
        {
          "output_type": "stream",
          "name": "stdout",
          "text": [
            "Overwriting app.py\n"
          ]
        }
      ]
    },
    {
      "cell_type": "code",
      "metadata": {
        "colab": {
          "base_uri": "https://localhost:8080/"
        },
        "id": "BTN9lnbA7x_g",
        "outputId": "5254559d-5ba3-4678-b3b2-0376f514c555"
      },
      "source": [
        "#テキストと、処理の停止\n",
        "%%writefile app.py\n",
        "# -*- coding: utf-8 -*-\n",
        "\n",
        "import streamlit as st\n",
        "\n",
        "\n",
        "def main():\n",
        "    name = st.text_input(label='your name:')\n",
        "\n",
        "    # バリデーション処理\n",
        "    if len(name) < 1:\n",
        "        st.warning('Please input your name')\n",
        "        # 条件を満たないときは処理を停止する\n",
        "        st.stop()\n",
        "\n",
        "    st.write('Hello,', name, '!')\n",
        "\n",
        "if __name__ == '__main__':\n",
        "    main()"
      ],
      "execution_count": null,
      "outputs": [
        {
          "output_type": "stream",
          "name": "stdout",
          "text": [
            "Overwriting app.py\n"
          ]
        }
      ]
    },
    {
      "cell_type": "code",
      "metadata": {
        "colab": {
          "base_uri": "https://localhost:8080/"
        },
        "id": "fhqLCTXN764P",
        "outputId": "25c37dfd-207f-462e-b590-c7ecb46a2d9b"
      },
      "source": [
        "#カラムレイアウトを追加できる\n",
        "%%writefile app.py\n",
        "# -*- coding: utf-8 -*-\n",
        "\n",
        "import streamlit as st\n",
        "\n",
        "\n",
        "def main():\n",
        "    # カラムを追加する(以前はbeta_columnsだったけどbeta取れた)\n",
        "    col1, col2, col3 = st.columns(3)\n",
        "\n",
        "    # コンテキストマネージャとして使う\n",
        "    with col1:\n",
        "        st.header('col1')\n",
        "\n",
        "    with col2:\n",
        "        st.header('col2')\n",
        "\n",
        "    with col3:\n",
        "        st.header('col3')\n",
        "\n",
        "    # カラムに直接書き込むこともできる\n",
        "    col1.write('This is column 1')\n",
        "    col2.write('This is column 2')\n",
        "    col3.write('This is column 3')\n",
        "\n",
        "\n",
        "if __name__ == '__main__':\n",
        "    main()"
      ],
      "execution_count": null,
      "outputs": [
        {
          "output_type": "stream",
          "name": "stdout",
          "text": [
            "Overwriting app.py\n"
          ]
        }
      ]
    },
    {
      "cell_type": "code",
      "metadata": {
        "colab": {
          "base_uri": "https://localhost:8080/"
        },
        "id": "z1a0sLqA9Ldf",
        "outputId": "da307a63-e71b-4c30-874b-8ca023439f06"
      },
      "source": [
        "#コンテナ追加\n",
        "%%writefile app.py\n",
        "# -*- coding: utf-8 -*-\n",
        "\n",
        "import streamlit as st\n",
        "\n",
        "\n",
        "def main():\n",
        "    # コンテナを追加する(beta_containerが、container)\n",
        "    container = st.container()\n",
        "\n",
        "    # コンテキストマネージャとして使うことで出力先になる\n",
        "    with container:\n",
        "        st.write('This is inside the container')\n",
        "    # これはコンテナの外への書き込み\n",
        "    st.write('This is outside the container')\n",
        "\n",
        "    # コンテナに直接書き込むこともできる\n",
        "    container = st.container()\n",
        "    container.write('1')\n",
        "    st.write('2')\n",
        "    # 出力順は後だがレイアウト的にはこちらが先に現れる\n",
        "    container.write('3')\n",
        "\n",
        "\n",
        "if __name__ == '__main__':\n",
        "    main()"
      ],
      "execution_count": null,
      "outputs": [
        {
          "output_type": "stream",
          "name": "stdout",
          "text": [
            "Overwriting app.py\n"
          ]
        }
      ]
    },
    {
      "cell_type": "code",
      "metadata": {
        "colab": {
          "base_uri": "https://localhost:8080/"
        },
        "id": "wZxZmGgF9mOA",
        "outputId": "9d36ec88-663d-43fc-f2bf-d0b60f889053"
      },
      "source": [
        "#コンテナの追加\n",
        "%%writefile app.py\n",
        "# -*- coding: utf-8 -*-\n",
        "\n",
        "import streamlit as st\n",
        "\n",
        "\n",
        "def main():\n",
        "    placeholder = st.empty()\n",
        "    # プレースホルダにコンテナを追加する\n",
        "    container = placeholder.container()\n",
        "    # コンテナにカラムを追加する\n",
        "    col1, col2 = container.columns(2)\n",
        "    # それぞれのカラムに書き込む\n",
        "    with col1:\n",
        "        st.write('Hello, World')\n",
        "    with col2:\n",
        "        st.write('Konnichiwa, Sekai')\n",
        "\n",
        "\n",
        "if __name__ == '__main__':\n",
        "    main()"
      ],
      "execution_count": null,
      "outputs": [
        {
          "output_type": "stream",
          "name": "stdout",
          "text": [
            "Overwriting app.py\n"
          ]
        }
      ]
    },
    {
      "cell_type": "code",
      "metadata": {
        "colab": {
          "base_uri": "https://localhost:8080/"
        },
        "id": "e6Mycnit94_C",
        "outputId": "0f0b014a-2e57-4944-eaf8-8bf078710216"
      },
      "source": [
        "#エキスパンダー\n",
        "%%writefile app.py\n",
        "# -*- coding: utf-8 -*-\n",
        "\n",
        "import streamlit as st\n",
        "\n",
        "\n",
        "def main():\n",
        "    with st.expander('See details'):\n",
        "        st.write('Hidden item')\n",
        "\n",
        "\n",
        "if __name__ == '__main__':\n",
        "    main()"
      ],
      "execution_count": null,
      "outputs": [
        {
          "output_type": "stream",
          "name": "stdout",
          "text": [
            "Overwriting app.py\n"
          ]
        }
      ]
    },
    {
      "cell_type": "code",
      "metadata": {
        "colab": {
          "base_uri": "https://localhost:8080/"
        },
        "id": "Xm237oCv-NFO",
        "outputId": "4f7158c7-bfc1-4134-bfc8-e0b6dfa6d0d3"
      },
      "source": [
        "#サイドバー\n",
        "#ウィジェットやオブジェクトの表示をサイドバーに配置することもできる。 使い方は単純で、サイドバーに置きたいなと思ったら sidebar をつけて API を呼び出す。\n",
        "%%writefile app.py\n",
        "# -*- coding: utf-8 -*-\n",
        "\n",
        "import streamlit as st\n",
        "import pandas as pd\n",
        "import numpy as np\n",
        "\n",
        "\n",
        "def main():\n",
        "    # サイドバーにリロードボタンをつける\n",
        "    st.sidebar.button('Reload')\n",
        "    # サイドバーにデータフレームを書き込む\n",
        "    data = np.random.randn(20, 3)\n",
        "    df = pd.DataFrame(data, columns=['x', 'y', 'z'])\n",
        "    st.sidebar.dataframe(df)\n",
        "\n",
        "\n",
        "if __name__ == '__main__':\n",
        "    main()"
      ],
      "execution_count": null,
      "outputs": [
        {
          "output_type": "stream",
          "name": "stdout",
          "text": [
            "Overwriting app.py\n"
          ]
        }
      ]
    },
    {
      "cell_type": "code",
      "metadata": {
        "colab": {
          "base_uri": "https://localhost:8080/"
        },
        "id": "s6jd7-GF-mnF",
        "outputId": "eda9de61-f429-45b4-b299-616e8796291c"
      },
      "source": [
        "#単一のスクリプトで複数のアプリケーションを扱う\n",
        "%%writefile app.py\n",
        "# -*- coding: utf-8 -*-\n",
        "\n",
        "import streamlit as st\n",
        "\n",
        "\n",
        "def render_app1():\n",
        "    \"\"\"GuP のアプリケーションを処理する関数\"\"\"\n",
        "    character_and_quotes = {\n",
        "        'aaa': 'コメント１',\n",
        "        'bbb': 'コメント２',\n",
        "        'ccc': 'コメント３',\n",
        "        'ddd': 'コメント４',\n",
        "    }\n",
        "    selected_items = st.multiselect('What are your favorite ?',\n",
        "                                    list(character_and_quotes.keys()))\n",
        "    for selected_item in selected_items:\n",
        "        st.write(character_and_quotes[selected_item])\n",
        "\n",
        "\n",
        "def render_app2():\n",
        "    \"\"\"トップ！のアプリケーションを処理する関数\"\"\"\n",
        "    selected_item = st.selectbox('Which do you like?',\n",
        "                                 [1, 2])\n",
        "    if selected_item == 1:\n",
        "        st.write('wow!')\n",
        "    else:\n",
        "        st.write('Amaging!')\n",
        "\n",
        "\n",
        "def main():\n",
        "    # アプリケーション名と対応する関数のマッピング\n",
        "    apps = {\n",
        "        '-': None,\n",
        "        'Application1': render_app1,\n",
        "        'Application2': render_app2,\n",
        "    }\n",
        "    selected_app_name = st.sidebar.selectbox(label='apps',\n",
        "                                             options=list(apps.keys()))\n",
        "\n",
        "    if selected_app_name == '-':\n",
        "        st.info('Please select the app')\n",
        "        st.stop()\n",
        "\n",
        "    # 選択されたアプリケーションを処理する関数を呼び出す\n",
        "    render_func = apps[selected_app_name]\n",
        "    render_func()\n",
        "\n",
        "\n",
        "if __name__ == '__main__':\n",
        "    main()"
      ],
      "execution_count": null,
      "outputs": [
        {
          "output_type": "stream",
          "name": "stdout",
          "text": [
            "Overwriting app.py\n"
          ]
        }
      ]
    },
    {
      "cell_type": "code",
      "metadata": {
        "colab": {
          "base_uri": "https://localhost:8080/"
        },
        "id": "aTrAV2V9-28e",
        "outputId": "7f87b000-2679-439f-8ddb-8aa32b068c28"
      },
      "source": [
        "#スクリプトでコマンドライン引数を受け取る\n",
        "%%writefile app.py\n",
        "# -*- coding: utf-8 -*-\n",
        "\n",
        "import argparse\n",
        "\n",
        "import streamlit as st\n",
        "\n",
        "\n",
        "def main():\n",
        "    parser = argparse.ArgumentParser(description='parse argument example')\n",
        "    # --message または -m オプションで文字列を受け取る\n",
        "    parser.add_argument('--message', '-m', type=str, default='World')\n",
        "    # 引数をパースする\n",
        "    args = parser.parse_args()\n",
        "    # パースした引数を表示する\n",
        "    st.write(f'Hello, {args.message}!')\n",
        "\n",
        "\n",
        "if __name__ == '__main__':\n",
        "    main()\n",
        "\n",
        "#$ streamlit run example.py -m Sekai\n",
        "#Usage: streamlit run [OPTIONS] TARGET [ARGS]...\n",
        "#Try 'streamlit run --help' for help.\n",
        "#\n",
        "#Error: no such option: -m\n",
        "#そこで -- を使って区切って、スクリプトに対する引数であることを明示的に示す。\n",
        "#\n",
        "#$ streamlit run example.py -- -m Sekai"
      ],
      "execution_count": null,
      "outputs": [
        {
          "output_type": "stream",
          "name": "stdout",
          "text": [
            "Overwriting app.py\n"
          ]
        }
      ]
    },
    {
      "cell_type": "code",
      "metadata": {
        "colab": {
          "base_uri": "https://localhost:8080/"
        },
        "id": "M8hVk6RpQISe",
        "outputId": "3f4bb41b-0018-4be0-c4bb-5bb8f915d99c"
      },
      "source": [
        "#main とか使わなくてもいけるみたい\n",
        "\n",
        "%%writefile app.py\n",
        "import streamlit as st\n",
        "import plotly.express as px\n",
        "import plotly.io as pio\n",
        "\n",
        "# data\n",
        "data = px.data.iris()\n",
        "\n",
        "# sidemenu\n",
        "st.sidebar.markdown(\n",
        "    \"# Qiita sample\"\n",
        ")\n",
        "template = st.sidebar.selectbox(\n",
        "    \"Template\", list(pio.templates.keys())\n",
        ")\n",
        "\n",
        "# body\n",
        "st.write(\n",
        "    px.scatter(data, x=\"sepal_width\", y=\"sepal_length\", template=template)\n",
        ")\n",
        "\n",
        "##どうしてもスタイルを修正したい場合\n",
        "##st.markdown でmarkdownコンポーネントを作り、unsafe_allow_html パラメータへ true を与えつつ直で <style> タグを書きます。\n",
        "##下がサンプル\n",
        "st.markdown(\n",
        "    \"<style>h1{color: red}</style>\",\n",
        "    unsafe_allow_html=True\n",
        ")\n",
        "\n",
        "#unsalfe_allow_html=true はhtml直書きしたいときこのようにも使える\n",
        "##st.write(\n",
        "##    '<span style=\"color:red;background:pink\">該当するデータがありません・・・・</span>',unsafe_allow_html=True\n",
        "##)\n",
        "##また、ほとんどのコマンドはst.sideberを追加することで、各機能を左側のサイドバーに寄せることができます。\n",
        "##st.selectbox→st.sidebar.selectbox\n",
        "##st.checkbox→st.sidebar.chechbox"
      ],
      "execution_count": null,
      "outputs": [
        {
          "output_type": "stream",
          "name": "stdout",
          "text": [
            "Overwriting app.py\n"
          ]
        }
      ]
    },
    {
      "cell_type": "code",
      "metadata": {
        "id": "Y8KdrKe0Ed6i"
      },
      "source": [
        "#https://qiita.com/SatoshiTerasaki/items/f1724d68deecdc14103f\n",
        "#カメラのデータを扱うサンプル\n",
        "#カメラデバイス使えないとできないよ\n",
        "%%writefile app.py\n",
        "\n",
        "import cv2  # opencv-python==4.2.0.34\n",
        "import streamlit as st  # streamlit==0.61.0\n",
        "import tensorflow as tf  # tensorflow==2.2.0\n",
        "from tensorflow import keras\n",
        "\n",
        "\n",
        "def get_model():\n",
        "    model = keras.applications.MobileNetV2(include_top=True, weights=\"imagenet\")\n",
        "    model.trainable = False\n",
        "    return model\n",
        "\n",
        "\n",
        "def get_decoder():\n",
        "    decode_predictions = keras.applications.mobilenet_v2.decode_predictions\n",
        "    return decode_predictions\n",
        "\n",
        "\n",
        "def get_preprocessor():\n",
        "    def func(image):\n",
        "        image = tf.cast(image, tf.float32)\n",
        "\n",
        "        image = tf.image.resize(image, (224, 224))\n",
        "        image = keras.applications.mobilenet_v2.preprocess_input(image)\n",
        "        image = tf.expand_dims(image, axis=0)\n",
        "        return image\n",
        "\n",
        "    return func\n",
        "\n",
        "\n",
        "class Classifier:\n",
        "    def __init__(self, top_k=5):\n",
        "        self.top_k = top_k\n",
        "        self.model = get_model()\n",
        "        self.decode_predictions = get_decoder()\n",
        "        self.preprocessor = get_preprocessor()\n",
        "\n",
        "    def predict(self, image):\n",
        "        image = self.preprocessor(image)\n",
        "        probs = self.model.predict(image)\n",
        "        result = self.decode_predictions(probs, top=self.top_k)\n",
        "        return result\n",
        "\n",
        "\n",
        "def main():\n",
        "    st.markdown(\"# Image Classification app using Streamlit\")\n",
        "    st.markdown(\"model = MobileNetV2\")\n",
        "    device = user_input = st.text_input(\"input your video/camera device\", \"0\")\n",
        "    if device.isnumeric():\n",
        "        device = int(device)\n",
        "    cap = cv2.VideoCapture(device)\n",
        "    classifier = Classifier(top_k=5)\n",
        "    label_names_st = st.empty()\n",
        "    scores_st = st.empty()\n",
        "    image_loc = st.empty()\n",
        "\n",
        "    while cap.isOpened():\n",
        "        _, frame = cap.read()\n",
        "        frame = cv2.cvtColor(frame, cv2.COLOR_BGR2RGB)\n",
        "        result = classifier.predict(frame)\n",
        "        labels = []\n",
        "        scores = []\n",
        "        for (_, label, prob) in result[0]:\n",
        "            labels.append(f\"{label: <16}\")\n",
        "            s = f\"{100*prob:.2f}[%]\"\n",
        "            scores.append(f\"{s: <16}\")\n",
        "        label_names_st.text(\",\".join(labels))\n",
        "        scores_st.text(\",\".join(scores))\n",
        "        image_loc.image(frame)\n",
        "        if cv2.waitKey() & 0xFF == ord(\"q\"):\n",
        "            break\n",
        "    cap.release()\n",
        "\n",
        "\n",
        "if __name__ == \"__main__\":\n",
        "    main()"
      ],
      "execution_count": null,
      "outputs": []
    },
    {
      "cell_type": "code",
      "metadata": {
        "id": "9gJy6qlHxBuw"
      },
      "source": [
        "from IPython.display import Image\n",
        "try:\n",
        "  filename = take_photo()\n",
        "  print('Saved to {}'.format(filename))\n",
        "  \n",
        "  # Show the image which was just taken.\n",
        "  display(Image(filename))\n",
        "except Exception as err:\n",
        "  # Errors will be thrown if the user does not have a webcam or if they do not\n",
        "  # grant the page permission to access it.\n",
        "  print(str(err))"
      ],
      "execution_count": null,
      "outputs": []
    },
    {
      "cell_type": "code",
      "metadata": {
        "colab": {
          "base_uri": "https://localhost:8080/"
        },
        "id": "Lqi1WUnBEpnh",
        "outputId": "612f8ffb-9c80-4e5d-f88f-5a8a7bcd7570"
      },
      "source": [
        "#基本的にロードされたらデータ飛ぶので、それを保存するサンプル\n",
        "%%writefile app.py\n",
        "\n",
        "###辞書のように，keyとvalueをsession_stateに追加．\n",
        "##st.session_state['key'] = 'value'\n",
        "###Session Stateにkeyと値を割り当て．上と同じ挙動を示す．\n",
        "##st.session_state.key = 'value'\n",
        "\n",
        "import streamlit as st\n",
        "\n",
        "st.title('Counter Example')\n",
        "if 'count' not in st.session_state: \n",
        "    st.session_state.count = 0 #countがsession_stateに追加されていない場合，0で初期化\n",
        "\n",
        "increment = st.button('Increment')\n",
        "if increment:\n",
        "    st.session_state.count += 1 #値の更新\n",
        "\n",
        "st.write('Count = ' + str(st.session_state.count))"
      ],
      "execution_count": null,
      "outputs": [
        {
          "output_type": "stream",
          "name": "stdout",
          "text": [
            "Overwriting app.py\n"
          ]
        }
      ]
    },
    {
      "cell_type": "code",
      "metadata": {
        "colab": {
          "base_uri": "https://localhost:8080/"
        },
        "id": "pG5Jsfq3Gesp",
        "outputId": "0ed33f4c-9abb-4b03-a7a3-6a97a0155407"
      },
      "source": [
        "#webからのクエリパラメータ取得するサンプル\n",
        "%%writefile app.py\n",
        "\n",
        "import streamlit as st\n",
        "\n",
        "st.title('Streamlitのwebでクエリパラメータを取得')\n",
        "\n",
        "params = st.experimental_get_query_params()\n",
        "st.write('experimental_get_query_params() の実行結果')\n",
        "st.write(params)\n",
        "\n",
        "\n",
        "# https://<streamlit が公開されている URL>?hikisu1=abc&hikisu2=12345 の場合、st.write(params)は以下の表示\n",
        "# {\n",
        "#   \"hikisu1\": [\n",
        "#     \"abc\"\n",
        "#   ],\n",
        "#   \"hikisu2\": [\n",
        "#     \"12345\"\n",
        "#   ]\n",
        "# }"
      ],
      "execution_count": null,
      "outputs": [
        {
          "output_type": "stream",
          "name": "stdout",
          "text": [
            "Overwriting app.py\n"
          ]
        }
      ]
    },
    {
      "cell_type": "code",
      "metadata": {
        "id": "Cka6abjVSfrR"
      },
      "source": [
        "#UIのカスタマイズしたい場合は、st.markdown と st.write で直接 html 利用する\n",
        "#https://qiita.com/Nate0928/items/4d8b9abef3e520293a4a\n",
        "%%writefile app.py\n",
        "import streamlit as st\n",
        "import streamlit.components.v1 as stc\n",
        "\n",
        "st.write('Streamlit is cool.')\n",
        "st.text('Streamlit is cool.')\n",
        "st.markdown('Streamlit is **_really_ cool**.')\n",
        "stc.html(\"<p style='color:red;'> Streamlit is Awesome\")\n",
        "\n",
        "stc.html(\"\"\"\n",
        "        <meta name=\"viewport\" content=\"width=device-width, initial-scale=1\">\n",
        "        <style>\n",
        "        * {\n",
        "        box-sizing: border-box;\n",
        "        }\n",
        "\n",
        "        body {\n",
        "        margin: 0;\n",
        "        font-family: Arial;\n",
        "        }\n",
        "\n",
        "        /* The grid: Four equal columns that floats next to each other */\n",
        "        .column {\n",
        "        float: left;\n",
        "        width: 25%;\n",
        "        padding: 10px;\n",
        "        }\n",
        "\n",
        "        /* Style the images inside the grid */\n",
        "        .column img {\n",
        "        opacity: 0.8; \n",
        "        cursor: pointer; \n",
        "        }\n",
        "\n",
        "        .column img:hover {\n",
        "        opacity: 1;\n",
        "        }\n",
        "\n",
        "        /* Clear floats after the columns */\n",
        "        .row:after {\n",
        "        content: \"\";\n",
        "        display: table;\n",
        "        clear: both;\n",
        "        }\n",
        "\n",
        "        /* The expanding image container */\n",
        "        .container {\n",
        "        position: relative;\n",
        "        display: none;\n",
        "        }\n",
        "\n",
        "        /* Expanding image text */\n",
        "        #imgtext {\n",
        "        position: absolute;\n",
        "        bottom: 15px;\n",
        "        left: 15px;\n",
        "        color: white;\n",
        "        font-size: 20px;\n",
        "        }\n",
        "\n",
        "        /* Closable button inside the expanded image */\n",
        "        .closebtn {\n",
        "        position: absolute;\n",
        "        top: 10px;\n",
        "        right: 15px;\n",
        "        color: white;\n",
        "        font-size: 35px;\n",
        "        cursor: pointer;\n",
        "        }\n",
        "        </style>\n",
        "        </head>\n",
        "        <body>\n",
        "\n",
        "        <div style=\"text-align:center\">\n",
        "        <h2>Tabbed Image Gallery</h2>\n",
        "        <p>Click on the images below:</p>\n",
        "        </div>\n",
        "\n",
        "        <!-- The four columns -->\n",
        "        <div class=\"row\">\n",
        "        <div class=\"column\">\n",
        "            <img src=\"https://www.w3schools.com/howto/img_nature.jpg\" alt=\"Nature\" style=\"width:100%\" onclick=\"myFunction(this);\">\n",
        "        </div>\n",
        "        <div class=\"column\">\n",
        "            <img src=\"https://www.w3schools.com/howto/img_snow.jpg\" alt=\"Snow\" style=\"width:100%\" onclick=\"myFunction(this);\">\n",
        "        </div>\n",
        "        <div class=\"column\">\n",
        "            <img src=\"https://www.w3schools.com/howto/img_mountains.jpg\" alt=\"Mountains\" style=\"width:100%\" onclick=\"myFunction(this);\">\n",
        "        </div>\n",
        "        <div class=\"column\">\n",
        "            <img src=\"https://www.w3schools.com/howto/img_lights.jpg\" alt=\"Lights\" style=\"width:100%\" onclick=\"myFunction(this);\">\n",
        "        </div>\n",
        "        </div>\n",
        "\n",
        "        <div class=\"container\">\n",
        "        <span onclick=\"this.parentElement.style.display='none'\" class=\"closebtn\">&times;</span>\n",
        "        <img id=\"expandedImg\" style=\"width:100%\">\n",
        "        <div id=\"imgtext\"></div>\n",
        "        </div>\n",
        "\n",
        "        <script>\n",
        "        function myFunction(imgs) {\n",
        "        var expandImg = document.getElementById(\"expandedImg\");\n",
        "        var imgText = document.getElementById(\"imgtext\");\n",
        "        expandImg.src = imgs.src;\n",
        "        imgText.innerHTML = imgs.alt;\n",
        "        expandImg.parentElement.style.display = \"block\";\n",
        "        }\n",
        "        </script>\n",
        "\n",
        "        </body>\n",
        "        </html>\n",
        "\n",
        "        \"\"\",height = 500)\n",
        "\n",
        "stc.html(\"\"\"\n",
        "                <a class=\"twitter-timeline\"\n",
        "                href=\"https://twitter.com/streamlit?ref_src=twsrc%5Etfw\">Tweets by streamlit</a>\n",
        "                <script async src=\"https://platform.twitter.com/widgets.js\" charset=\"utf-8\"></script>\n",
        "                \"\"\"\n",
        "                )\n",
        "stc.iframe(\"https://docs.streamlit.io/en/stable/develop_streamlit_components.html\",scrolling=True)"
      ],
      "execution_count": null,
      "outputs": []
    }
  ]
}