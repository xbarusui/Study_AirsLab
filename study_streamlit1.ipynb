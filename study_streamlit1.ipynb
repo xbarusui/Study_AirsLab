{
  "nbformat": 4,
  "nbformat_minor": 0,
  "metadata": {
    "colab": {
      "name": "study_streamlit1.ipynb",
      "provenance": [],
      "collapsed_sections": [
        "l-Ft_v9Ql1zB"
      ],
      "mount_file_id": "1JC97ib5HOoFJkU9_aZFKG0OnYq9YJEd6",
      "authorship_tag": "ABX9TyPWw6NR471+JwITcVPJlee4",
      "include_colab_link": true
    },
    "kernelspec": {
      "name": "python3",
      "display_name": "Python 3"
    },
    "language_info": {
      "name": "python"
    },
    "accelerator": "GPU"
  },
  "cells": [
    {
      "cell_type": "markdown",
      "metadata": {
        "id": "view-in-github",
        "colab_type": "text"
      },
      "source": [
        "<a href=\"https://colab.research.google.com/github/xbarusui/Study_AirsLab/blob/main/study_streamlit1.ipynb\" target=\"_parent\"><img src=\"https://colab.research.google.com/assets/colab-badge.svg\" alt=\"Open In Colab\"/></a>"
      ]
    },
    {
      "cell_type": "markdown",
      "metadata": {
        "id": "bb3qmdCUFSG3"
      },
      "source": [
        "<h1> Airs-lab 勉強会用 colab notebook No.1</h1>\n",
        "\n",
        "## 第１章 Google Colab で Streamlit を動かそう\n",
        "\n",
        "- ポイント1. 「ngrok」を利用して GoogleColab から外部インターネットに公開することで検証ができる\n",
        "- ポイント2. GoogleColab の magicコマンドでファイルを書き込むことができるのでこれを活用する\n",
        "\n",
        "**上記コマンドを利用することで、 GoogleColab だけで webアプリケーションを起動できる。又streamlit は app.py のスクリプトを修正をするだけで、動的反映されるので、まずはこのテンプレートを順番に実行すれば、自分の環境で streamlit を動作させるのは難しくない**"
      ]
    },
    {
      "cell_type": "markdown",
      "metadata": {
        "id": "SDxdaLcFuJzx"
      },
      "source": [
        "# 事前準備\n",
        "\n",
        "1. streamlit と ngrok インストール\n",
        "2. get_ipythonでngrokにバインド\n",
        "3. %%writefile app.py テンプレ作成。基本1ファイルを修正\n",
        "4. streamlit run app.py でアプリ実行\n",
        "5. curl で外部URLが生成される\n",
        "\n",
        "6. 3の外部URLからアクセスすると画面が表示される\n",
        "\n",
        "3だけを修正すれば動的に反映される\n",
        "\n",
        "4の再起動をするときは2-6の順に再実施して新しいURLにならないと起動しない\n"
      ]
    },
    {
      "cell_type": "code",
      "metadata": {
        "id": "KfmoLPDakToo"
      },
      "source": [
        "# 1.streamlitと外部公開のngrokインストール\n",
        "!pip install -q streamlit\n",
        "!wget https://bin.equinox.io/c/4VmDzA7iaHb/ngrok-stable-linux-amd64.zip\n",
        "!unzip ngrok-stable-linux-amd64.zip"
      ],
      "execution_count": null,
      "outputs": []
    },
    {
      "cell_type": "code",
      "metadata": {
        "id": "kLhhDOhGuzHp"
      },
      "source": [
        "# 2.get_ipythonでngrokにバインド。streamlit のデフォルトport は 8501 なので\n",
        "get_ipython().system_raw('./ngrok http 8501 &')"
      ],
      "execution_count": null,
      "outputs": []
    },
    {
      "cell_type": "code",
      "metadata": {
        "id": "m4UJVkbuZTdS"
      },
      "source": [
        "# 3. %%writefile app.py テンプレ作成。基本1ファイルを修正\n",
        "%%writefile app.py\n",
        "import streamlit as st\n",
        "import plotly.express as px\n",
        "import plotly.io as pio\n",
        "\n"
      ],
      "execution_count": null,
      "outputs": []
    },
    {
      "cell_type": "code",
      "metadata": {
        "id": "jrtGEhQQxP0_"
      },
      "source": [
        "# 4. streamlit run app.py でアプリ実行\n",
        "!streamlit run app.py &>/dev/null&\n",
        "#!streamlit run app.py\n"
      ],
      "execution_count": null,
      "outputs": []
    },
    {
      "cell_type": "markdown",
      "metadata": {
        "id": "PCj-SLtWyFaV"
      },
      "source": [
        "# curl で外部URLが生成される"
      ]
    },
    {
      "cell_type": "code",
      "metadata": {
        "id": "RQfrXZcoZLgb"
      },
      "source": [
        "# 5. curl 実行時に出るURLで外部アクセスできるようになる\n",
        "!curl -s http://localhost:4040/api/tunnels | python3 -c \\\n",
        "  'import sys, json; print(\"Execute the next cell and the go to the following URL: \" +json.load(sys.stdin)[\"tunnels\"][0][\"public_url\"])'"
      ],
      "execution_count": null,
      "outputs": []
    },
    {
      "cell_type": "markdown",
      "metadata": {
        "id": "WsvmJOPQmpmf"
      },
      "source": [
        "# app.py 本体処理\n",
        "app.py を%%writefile app.pyで上書きすると URL から動的に画面が変更される\n"
      ]
    },
    {
      "cell_type": "code",
      "metadata": {
        "id": "M2d5QkMQmrRI"
      },
      "source": [
        "#プレースホルダーを応用するとアニメーション的なこともできる。 以下のサンプルコードではスリープを挟みながらプレースホルダーの内容を書きかえることで動きのあるページを作っている。\n",
        "%%writefile app.py\n",
        "# -*- coding: utf-8 -*-\n",
        "\n",
        "import time\n",
        "\n",
        "import streamlit as st\n",
        "\n",
        "\n",
        "def main():\n",
        "    status_area = st.empty()\n",
        "\n",
        "    # カウントダウン\n",
        "    count_down_sec = 5\n",
        "    for i in range(count_down_sec):\n",
        "        # プレースホルダーに残り秒数を書き込む\n",
        "        status_area.write(f'{count_down_sec - i} sec left')\n",
        "        # スリープ処理を入れる\n",
        "        time.sleep(1)\n",
        "\n",
        "    # 完了したときの表示\n",
        "    status_area.write('Done!')\n",
        "    # 風船飛ばす\n",
        "    st.balloons()\n",
        "\n",
        "\n",
        "if __name__ == '__main__':\n",
        "    main()"
      ],
      "execution_count": null,
      "outputs": []
    }
  ]
}